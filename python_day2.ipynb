{
 "cells": [
  {
   "cell_type": "code",
   "execution_count": 1,
   "id": "0ec6cfc9-d170-4ffa-af3d-1de5d9da0dbf",
   "metadata": {},
   "outputs": [],
   "source": [
    "import pandas as pd"
   ]
  },
  {
   "cell_type": "code",
   "execution_count": 2,
   "id": "5b03beb8-16d8-4978-9c9a-a3dd4156f9c3",
   "metadata": {},
   "outputs": [],
   "source": [
    "oceania = pd.read_csv('data/gapminder_gdp_oceania.csv', index_col='country')"
   ]
  },
  {
   "cell_type": "code",
   "execution_count": 3,
   "id": "c083416a-db63-4f26-8112-0d8518b69825",
   "metadata": {},
   "outputs": [],
   "source": [
    "earth = pd.read_csv('data/gapminder_all.csv', index_col='country')"
   ]
  },
  {
   "cell_type": "code",
   "execution_count": 8,
   "id": "db5020b7-a90c-4379-a499-d52419cde5b3",
   "metadata": {},
   "outputs": [
    {
     "data": {
      "text/html": [
       "<div>\n",
       "<style scoped>\n",
       "    .dataframe tbody tr th:only-of-type {\n",
       "        vertical-align: middle;\n",
       "    }\n",
       "\n",
       "    .dataframe tbody tr th {\n",
       "        vertical-align: top;\n",
       "    }\n",
       "\n",
       "    .dataframe thead th {\n",
       "        text-align: right;\n",
       "    }\n",
       "</style>\n",
       "<table border=\"1\" class=\"dataframe\">\n",
       "  <thead>\n",
       "    <tr style=\"text-align: right;\">\n",
       "      <th></th>\n",
       "      <th>gdpPercap_1952</th>\n",
       "      <th>gdpPercap_1957</th>\n",
       "      <th>gdpPercap_1962</th>\n",
       "      <th>gdpPercap_1967</th>\n",
       "      <th>gdpPercap_1972</th>\n",
       "      <th>gdpPercap_1977</th>\n",
       "      <th>gdpPercap_1982</th>\n",
       "      <th>gdpPercap_1987</th>\n",
       "      <th>gdpPercap_1992</th>\n",
       "      <th>gdpPercap_1997</th>\n",
       "      <th>gdpPercap_2002</th>\n",
       "      <th>gdpPercap_2007</th>\n",
       "    </tr>\n",
       "    <tr>\n",
       "      <th>country</th>\n",
       "      <th></th>\n",
       "      <th></th>\n",
       "      <th></th>\n",
       "      <th></th>\n",
       "      <th></th>\n",
       "      <th></th>\n",
       "      <th></th>\n",
       "      <th></th>\n",
       "      <th></th>\n",
       "      <th></th>\n",
       "      <th></th>\n",
       "      <th></th>\n",
       "    </tr>\n",
       "  </thead>\n",
       "  <tbody>\n",
       "    <tr>\n",
       "      <th>Australia</th>\n",
       "      <td>10039.59564</td>\n",
       "      <td>10949.64959</td>\n",
       "      <td>12217.22686</td>\n",
       "      <td>14526.12465</td>\n",
       "      <td>16788.62948</td>\n",
       "      <td>18334.19751</td>\n",
       "      <td>19477.00928</td>\n",
       "      <td>21888.88903</td>\n",
       "      <td>23424.76683</td>\n",
       "      <td>26997.93657</td>\n",
       "      <td>30687.75473</td>\n",
       "      <td>34435.36744</td>\n",
       "    </tr>\n",
       "    <tr>\n",
       "      <th>New Zealand</th>\n",
       "      <td>10556.57566</td>\n",
       "      <td>12247.39532</td>\n",
       "      <td>13175.67800</td>\n",
       "      <td>14463.91893</td>\n",
       "      <td>16046.03728</td>\n",
       "      <td>16233.71770</td>\n",
       "      <td>17632.41040</td>\n",
       "      <td>19007.19129</td>\n",
       "      <td>18363.32494</td>\n",
       "      <td>21050.41377</td>\n",
       "      <td>23189.80135</td>\n",
       "      <td>25185.00911</td>\n",
       "    </tr>\n",
       "  </tbody>\n",
       "</table>\n",
       "</div>"
      ],
      "text/plain": [
       "             gdpPercap_1952  gdpPercap_1957  gdpPercap_1962  gdpPercap_1967  \\\n",
       "country                                                                       \n",
       "Australia       10039.59564     10949.64959     12217.22686     14526.12465   \n",
       "New Zealand     10556.57566     12247.39532     13175.67800     14463.91893   \n",
       "\n",
       "             gdpPercap_1972  gdpPercap_1977  gdpPercap_1982  gdpPercap_1987  \\\n",
       "country                                                                       \n",
       "Australia       16788.62948     18334.19751     19477.00928     21888.88903   \n",
       "New Zealand     16046.03728     16233.71770     17632.41040     19007.19129   \n",
       "\n",
       "             gdpPercap_1992  gdpPercap_1997  gdpPercap_2002  gdpPercap_2007  \n",
       "country                                                                      \n",
       "Australia       23424.76683     26997.93657     30687.75473     34435.36744  \n",
       "New Zealand     18363.32494     21050.41377     23189.80135     25185.00911  "
      ]
     },
     "execution_count": 8,
     "metadata": {},
     "output_type": "execute_result"
    }
   ],
   "source": [
    "oceania"
   ]
  },
  {
   "cell_type": "code",
   "execution_count": 6,
   "id": "7b39f700-8b66-437c-a12b-1a9165ae5c7e",
   "metadata": {},
   "outputs": [
    {
     "data": {
      "text/html": [
       "<div>\n",
       "<style scoped>\n",
       "    .dataframe tbody tr th:only-of-type {\n",
       "        vertical-align: middle;\n",
       "    }\n",
       "\n",
       "    .dataframe tbody tr th {\n",
       "        vertical-align: top;\n",
       "    }\n",
       "\n",
       "    .dataframe thead th {\n",
       "        text-align: right;\n",
       "    }\n",
       "</style>\n",
       "<table border=\"1\" class=\"dataframe\">\n",
       "  <thead>\n",
       "    <tr style=\"text-align: right;\">\n",
       "      <th></th>\n",
       "      <th>continent</th>\n",
       "      <th>gdpPercap_1952</th>\n",
       "      <th>gdpPercap_1957</th>\n",
       "      <th>gdpPercap_1962</th>\n",
       "      <th>gdpPercap_1967</th>\n",
       "      <th>gdpPercap_1972</th>\n",
       "      <th>gdpPercap_1977</th>\n",
       "      <th>gdpPercap_1982</th>\n",
       "      <th>gdpPercap_1987</th>\n",
       "      <th>gdpPercap_1992</th>\n",
       "      <th>...</th>\n",
       "      <th>pop_1962</th>\n",
       "      <th>pop_1967</th>\n",
       "      <th>pop_1972</th>\n",
       "      <th>pop_1977</th>\n",
       "      <th>pop_1982</th>\n",
       "      <th>pop_1987</th>\n",
       "      <th>pop_1992</th>\n",
       "      <th>pop_1997</th>\n",
       "      <th>pop_2002</th>\n",
       "      <th>pop_2007</th>\n",
       "    </tr>\n",
       "    <tr>\n",
       "      <th>country</th>\n",
       "      <th></th>\n",
       "      <th></th>\n",
       "      <th></th>\n",
       "      <th></th>\n",
       "      <th></th>\n",
       "      <th></th>\n",
       "      <th></th>\n",
       "      <th></th>\n",
       "      <th></th>\n",
       "      <th></th>\n",
       "      <th></th>\n",
       "      <th></th>\n",
       "      <th></th>\n",
       "      <th></th>\n",
       "      <th></th>\n",
       "      <th></th>\n",
       "      <th></th>\n",
       "      <th></th>\n",
       "      <th></th>\n",
       "      <th></th>\n",
       "      <th></th>\n",
       "    </tr>\n",
       "  </thead>\n",
       "  <tbody>\n",
       "    <tr>\n",
       "      <th>Algeria</th>\n",
       "      <td>Africa</td>\n",
       "      <td>2449.008185</td>\n",
       "      <td>3013.976023</td>\n",
       "      <td>2550.816880</td>\n",
       "      <td>3246.991771</td>\n",
       "      <td>4182.663766</td>\n",
       "      <td>4910.416756</td>\n",
       "      <td>5745.160213</td>\n",
       "      <td>5681.358539</td>\n",
       "      <td>5023.216647</td>\n",
       "      <td>...</td>\n",
       "      <td>11000948.0</td>\n",
       "      <td>12760499.0</td>\n",
       "      <td>14760787.0</td>\n",
       "      <td>17152804.0</td>\n",
       "      <td>20033753.0</td>\n",
       "      <td>23254956.0</td>\n",
       "      <td>26298373.0</td>\n",
       "      <td>29072015.0</td>\n",
       "      <td>31287142</td>\n",
       "      <td>33333216</td>\n",
       "    </tr>\n",
       "    <tr>\n",
       "      <th>Angola</th>\n",
       "      <td>Africa</td>\n",
       "      <td>3520.610273</td>\n",
       "      <td>3827.940465</td>\n",
       "      <td>4269.276742</td>\n",
       "      <td>5522.776375</td>\n",
       "      <td>5473.288005</td>\n",
       "      <td>3008.647355</td>\n",
       "      <td>2756.953672</td>\n",
       "      <td>2430.208311</td>\n",
       "      <td>2627.845685</td>\n",
       "      <td>...</td>\n",
       "      <td>4826015.0</td>\n",
       "      <td>5247469.0</td>\n",
       "      <td>5894858.0</td>\n",
       "      <td>6162675.0</td>\n",
       "      <td>7016384.0</td>\n",
       "      <td>7874230.0</td>\n",
       "      <td>8735988.0</td>\n",
       "      <td>9875024.0</td>\n",
       "      <td>10866106</td>\n",
       "      <td>12420476</td>\n",
       "    </tr>\n",
       "    <tr>\n",
       "      <th>Benin</th>\n",
       "      <td>Africa</td>\n",
       "      <td>1062.752200</td>\n",
       "      <td>959.601080</td>\n",
       "      <td>949.499064</td>\n",
       "      <td>1035.831411</td>\n",
       "      <td>1085.796879</td>\n",
       "      <td>1029.161251</td>\n",
       "      <td>1277.897616</td>\n",
       "      <td>1225.856010</td>\n",
       "      <td>1191.207681</td>\n",
       "      <td>...</td>\n",
       "      <td>2151895.0</td>\n",
       "      <td>2427334.0</td>\n",
       "      <td>2761407.0</td>\n",
       "      <td>3168267.0</td>\n",
       "      <td>3641603.0</td>\n",
       "      <td>4243788.0</td>\n",
       "      <td>4981671.0</td>\n",
       "      <td>6066080.0</td>\n",
       "      <td>7026113</td>\n",
       "      <td>8078314</td>\n",
       "    </tr>\n",
       "    <tr>\n",
       "      <th>Botswana</th>\n",
       "      <td>Africa</td>\n",
       "      <td>851.241141</td>\n",
       "      <td>918.232535</td>\n",
       "      <td>983.653976</td>\n",
       "      <td>1214.709294</td>\n",
       "      <td>2263.611114</td>\n",
       "      <td>3214.857818</td>\n",
       "      <td>4551.142150</td>\n",
       "      <td>6205.883850</td>\n",
       "      <td>7954.111645</td>\n",
       "      <td>...</td>\n",
       "      <td>512764.0</td>\n",
       "      <td>553541.0</td>\n",
       "      <td>619351.0</td>\n",
       "      <td>781472.0</td>\n",
       "      <td>970347.0</td>\n",
       "      <td>1151184.0</td>\n",
       "      <td>1342614.0</td>\n",
       "      <td>1536536.0</td>\n",
       "      <td>1630347</td>\n",
       "      <td>1639131</td>\n",
       "    </tr>\n",
       "    <tr>\n",
       "      <th>Burkina Faso</th>\n",
       "      <td>Africa</td>\n",
       "      <td>543.255241</td>\n",
       "      <td>617.183465</td>\n",
       "      <td>722.512021</td>\n",
       "      <td>794.826560</td>\n",
       "      <td>854.735976</td>\n",
       "      <td>743.387037</td>\n",
       "      <td>807.198586</td>\n",
       "      <td>912.063142</td>\n",
       "      <td>931.752773</td>\n",
       "      <td>...</td>\n",
       "      <td>4919632.0</td>\n",
       "      <td>5127935.0</td>\n",
       "      <td>5433886.0</td>\n",
       "      <td>5889574.0</td>\n",
       "      <td>6634596.0</td>\n",
       "      <td>7586551.0</td>\n",
       "      <td>8878303.0</td>\n",
       "      <td>10352843.0</td>\n",
       "      <td>12251209</td>\n",
       "      <td>14326203</td>\n",
       "    </tr>\n",
       "    <tr>\n",
       "      <th>...</th>\n",
       "      <td>...</td>\n",
       "      <td>...</td>\n",
       "      <td>...</td>\n",
       "      <td>...</td>\n",
       "      <td>...</td>\n",
       "      <td>...</td>\n",
       "      <td>...</td>\n",
       "      <td>...</td>\n",
       "      <td>...</td>\n",
       "      <td>...</td>\n",
       "      <td>...</td>\n",
       "      <td>...</td>\n",
       "      <td>...</td>\n",
       "      <td>...</td>\n",
       "      <td>...</td>\n",
       "      <td>...</td>\n",
       "      <td>...</td>\n",
       "      <td>...</td>\n",
       "      <td>...</td>\n",
       "      <td>...</td>\n",
       "      <td>...</td>\n",
       "    </tr>\n",
       "    <tr>\n",
       "      <th>Switzerland</th>\n",
       "      <td>Europe</td>\n",
       "      <td>14734.232750</td>\n",
       "      <td>17909.489730</td>\n",
       "      <td>20431.092700</td>\n",
       "      <td>22966.144320</td>\n",
       "      <td>27195.113040</td>\n",
       "      <td>26982.290520</td>\n",
       "      <td>28397.715120</td>\n",
       "      <td>30281.704590</td>\n",
       "      <td>31871.530300</td>\n",
       "      <td>...</td>\n",
       "      <td>5666000.0</td>\n",
       "      <td>6063000.0</td>\n",
       "      <td>6401400.0</td>\n",
       "      <td>6316424.0</td>\n",
       "      <td>6468126.0</td>\n",
       "      <td>6649942.0</td>\n",
       "      <td>6995447.0</td>\n",
       "      <td>7193761.0</td>\n",
       "      <td>7361757</td>\n",
       "      <td>7554661</td>\n",
       "    </tr>\n",
       "    <tr>\n",
       "      <th>Turkey</th>\n",
       "      <td>Europe</td>\n",
       "      <td>1969.100980</td>\n",
       "      <td>2218.754257</td>\n",
       "      <td>2322.869908</td>\n",
       "      <td>2826.356387</td>\n",
       "      <td>3450.696380</td>\n",
       "      <td>4269.122326</td>\n",
       "      <td>4241.356344</td>\n",
       "      <td>5089.043686</td>\n",
       "      <td>5678.348271</td>\n",
       "      <td>...</td>\n",
       "      <td>29788695.0</td>\n",
       "      <td>33411317.0</td>\n",
       "      <td>37492953.0</td>\n",
       "      <td>42404033.0</td>\n",
       "      <td>47328791.0</td>\n",
       "      <td>52881328.0</td>\n",
       "      <td>58179144.0</td>\n",
       "      <td>63047647.0</td>\n",
       "      <td>67308928</td>\n",
       "      <td>71158647</td>\n",
       "    </tr>\n",
       "    <tr>\n",
       "      <th>United Kingdom</th>\n",
       "      <td>Europe</td>\n",
       "      <td>9979.508487</td>\n",
       "      <td>11283.177950</td>\n",
       "      <td>12477.177070</td>\n",
       "      <td>14142.850890</td>\n",
       "      <td>15895.116410</td>\n",
       "      <td>17428.748460</td>\n",
       "      <td>18232.424520</td>\n",
       "      <td>21664.787670</td>\n",
       "      <td>22705.092540</td>\n",
       "      <td>...</td>\n",
       "      <td>53292000.0</td>\n",
       "      <td>54959000.0</td>\n",
       "      <td>56079000.0</td>\n",
       "      <td>56179000.0</td>\n",
       "      <td>56339704.0</td>\n",
       "      <td>56981620.0</td>\n",
       "      <td>57866349.0</td>\n",
       "      <td>58808266.0</td>\n",
       "      <td>59912431</td>\n",
       "      <td>60776238</td>\n",
       "    </tr>\n",
       "    <tr>\n",
       "      <th>Australia</th>\n",
       "      <td>Oceania</td>\n",
       "      <td>10039.595640</td>\n",
       "      <td>10949.649590</td>\n",
       "      <td>12217.226860</td>\n",
       "      <td>14526.124650</td>\n",
       "      <td>16788.629480</td>\n",
       "      <td>18334.197510</td>\n",
       "      <td>19477.009280</td>\n",
       "      <td>21888.889030</td>\n",
       "      <td>23424.766830</td>\n",
       "      <td>...</td>\n",
       "      <td>10794968.0</td>\n",
       "      <td>11872264.0</td>\n",
       "      <td>13177000.0</td>\n",
       "      <td>14074100.0</td>\n",
       "      <td>15184200.0</td>\n",
       "      <td>16257249.0</td>\n",
       "      <td>17481977.0</td>\n",
       "      <td>18565243.0</td>\n",
       "      <td>19546792</td>\n",
       "      <td>20434176</td>\n",
       "    </tr>\n",
       "    <tr>\n",
       "      <th>New Zealand</th>\n",
       "      <td>Oceania</td>\n",
       "      <td>10556.575660</td>\n",
       "      <td>12247.395320</td>\n",
       "      <td>13175.678000</td>\n",
       "      <td>14463.918930</td>\n",
       "      <td>16046.037280</td>\n",
       "      <td>16233.717700</td>\n",
       "      <td>17632.410400</td>\n",
       "      <td>19007.191290</td>\n",
       "      <td>18363.324940</td>\n",
       "      <td>...</td>\n",
       "      <td>2488550.0</td>\n",
       "      <td>2728150.0</td>\n",
       "      <td>2929100.0</td>\n",
       "      <td>3164900.0</td>\n",
       "      <td>3210650.0</td>\n",
       "      <td>3317166.0</td>\n",
       "      <td>3437674.0</td>\n",
       "      <td>3676187.0</td>\n",
       "      <td>3908037</td>\n",
       "      <td>4115771</td>\n",
       "    </tr>\n",
       "  </tbody>\n",
       "</table>\n",
       "<p>142 rows × 37 columns</p>\n",
       "</div>"
      ],
      "text/plain": [
       "               continent  gdpPercap_1952  gdpPercap_1957  gdpPercap_1962  \\\n",
       "country                                                                    \n",
       "Algeria           Africa     2449.008185     3013.976023     2550.816880   \n",
       "Angola            Africa     3520.610273     3827.940465     4269.276742   \n",
       "Benin             Africa     1062.752200      959.601080      949.499064   \n",
       "Botswana          Africa      851.241141      918.232535      983.653976   \n",
       "Burkina Faso      Africa      543.255241      617.183465      722.512021   \n",
       "...                  ...             ...             ...             ...   \n",
       "Switzerland       Europe    14734.232750    17909.489730    20431.092700   \n",
       "Turkey            Europe     1969.100980     2218.754257     2322.869908   \n",
       "United Kingdom    Europe     9979.508487    11283.177950    12477.177070   \n",
       "Australia        Oceania    10039.595640    10949.649590    12217.226860   \n",
       "New Zealand      Oceania    10556.575660    12247.395320    13175.678000   \n",
       "\n",
       "                gdpPercap_1967  gdpPercap_1972  gdpPercap_1977  \\\n",
       "country                                                          \n",
       "Algeria            3246.991771     4182.663766     4910.416756   \n",
       "Angola             5522.776375     5473.288005     3008.647355   \n",
       "Benin              1035.831411     1085.796879     1029.161251   \n",
       "Botswana           1214.709294     2263.611114     3214.857818   \n",
       "Burkina Faso        794.826560      854.735976      743.387037   \n",
       "...                        ...             ...             ...   \n",
       "Switzerland       22966.144320    27195.113040    26982.290520   \n",
       "Turkey             2826.356387     3450.696380     4269.122326   \n",
       "United Kingdom    14142.850890    15895.116410    17428.748460   \n",
       "Australia         14526.124650    16788.629480    18334.197510   \n",
       "New Zealand       14463.918930    16046.037280    16233.717700   \n",
       "\n",
       "                gdpPercap_1982  gdpPercap_1987  gdpPercap_1992  ...  \\\n",
       "country                                                         ...   \n",
       "Algeria            5745.160213     5681.358539     5023.216647  ...   \n",
       "Angola             2756.953672     2430.208311     2627.845685  ...   \n",
       "Benin              1277.897616     1225.856010     1191.207681  ...   \n",
       "Botswana           4551.142150     6205.883850     7954.111645  ...   \n",
       "Burkina Faso        807.198586      912.063142      931.752773  ...   \n",
       "...                        ...             ...             ...  ...   \n",
       "Switzerland       28397.715120    30281.704590    31871.530300  ...   \n",
       "Turkey             4241.356344     5089.043686     5678.348271  ...   \n",
       "United Kingdom    18232.424520    21664.787670    22705.092540  ...   \n",
       "Australia         19477.009280    21888.889030    23424.766830  ...   \n",
       "New Zealand       17632.410400    19007.191290    18363.324940  ...   \n",
       "\n",
       "                  pop_1962    pop_1967    pop_1972    pop_1977    pop_1982  \\\n",
       "country                                                                      \n",
       "Algeria         11000948.0  12760499.0  14760787.0  17152804.0  20033753.0   \n",
       "Angola           4826015.0   5247469.0   5894858.0   6162675.0   7016384.0   \n",
       "Benin            2151895.0   2427334.0   2761407.0   3168267.0   3641603.0   \n",
       "Botswana          512764.0    553541.0    619351.0    781472.0    970347.0   \n",
       "Burkina Faso     4919632.0   5127935.0   5433886.0   5889574.0   6634596.0   \n",
       "...                    ...         ...         ...         ...         ...   \n",
       "Switzerland      5666000.0   6063000.0   6401400.0   6316424.0   6468126.0   \n",
       "Turkey          29788695.0  33411317.0  37492953.0  42404033.0  47328791.0   \n",
       "United Kingdom  53292000.0  54959000.0  56079000.0  56179000.0  56339704.0   \n",
       "Australia       10794968.0  11872264.0  13177000.0  14074100.0  15184200.0   \n",
       "New Zealand      2488550.0   2728150.0   2929100.0   3164900.0   3210650.0   \n",
       "\n",
       "                  pop_1987    pop_1992    pop_1997  pop_2002  pop_2007  \n",
       "country                                                                 \n",
       "Algeria         23254956.0  26298373.0  29072015.0  31287142  33333216  \n",
       "Angola           7874230.0   8735988.0   9875024.0  10866106  12420476  \n",
       "Benin            4243788.0   4981671.0   6066080.0   7026113   8078314  \n",
       "Botswana         1151184.0   1342614.0   1536536.0   1630347   1639131  \n",
       "Burkina Faso     7586551.0   8878303.0  10352843.0  12251209  14326203  \n",
       "...                    ...         ...         ...       ...       ...  \n",
       "Switzerland      6649942.0   6995447.0   7193761.0   7361757   7554661  \n",
       "Turkey          52881328.0  58179144.0  63047647.0  67308928  71158647  \n",
       "United Kingdom  56981620.0  57866349.0  58808266.0  59912431  60776238  \n",
       "Australia       16257249.0  17481977.0  18565243.0  19546792  20434176  \n",
       "New Zealand      3317166.0   3437674.0   3676187.0   3908037   4115771  \n",
       "\n",
       "[142 rows x 37 columns]"
      ]
     },
     "execution_count": 6,
     "metadata": {},
     "output_type": "execute_result"
    }
   ],
   "source": [
    "earth"
   ]
  },
  {
   "cell_type": "code",
   "execution_count": 9,
   "id": "2d460a14-6229-4e40-85ba-14ac390d7af6",
   "metadata": {},
   "outputs": [
    {
     "data": {
      "text/plain": [
       "Index(['continent', 'gdpPercap_1952', 'gdpPercap_1957', 'gdpPercap_1962',\n",
       "       'gdpPercap_1967', 'gdpPercap_1972', 'gdpPercap_1977', 'gdpPercap_1982',\n",
       "       'gdpPercap_1987', 'gdpPercap_1992', 'gdpPercap_1997', 'gdpPercap_2002',\n",
       "       'gdpPercap_2007', 'lifeExp_1952', 'lifeExp_1957', 'lifeExp_1962',\n",
       "       'lifeExp_1967', 'lifeExp_1972', 'lifeExp_1977', 'lifeExp_1982',\n",
       "       'lifeExp_1987', 'lifeExp_1992', 'lifeExp_1997', 'lifeExp_2002',\n",
       "       'lifeExp_2007', 'pop_1952', 'pop_1957', 'pop_1962', 'pop_1967',\n",
       "       'pop_1972', 'pop_1977', 'pop_1982', 'pop_1987', 'pop_1992', 'pop_1997',\n",
       "       'pop_2002', 'pop_2007'],\n",
       "      dtype='object')"
      ]
     },
     "execution_count": 9,
     "metadata": {},
     "output_type": "execute_result"
    }
   ],
   "source": [
    "earth.columns"
   ]
  },
  {
   "cell_type": "code",
   "execution_count": 11,
   "id": "6f3bbbce-9811-4b18-9a65-abe9f83553dd",
   "metadata": {},
   "outputs": [
    {
     "data": {
      "text/plain": [
       "70.3"
      ]
     },
     "execution_count": 11,
     "metadata": {},
     "output_type": "execute_result"
    }
   ],
   "source": [
    "earth.loc['Serbia', 'lifeExp_1977']"
   ]
  },
  {
   "cell_type": "markdown",
   "id": "d85cbc9e-49a1-4fae-aa9a-57580b15c25b",
   "metadata": {},
   "source": [
    "# 9. Plotting"
   ]
  },
  {
   "cell_type": "code",
   "execution_count": 12,
   "id": "fbeb6659-a304-4445-a507-90f414f593c5",
   "metadata": {},
   "outputs": [],
   "source": [
    "import matplotlib.pyplot as plt"
   ]
  },
  {
   "cell_type": "code",
   "execution_count": 13,
   "id": "9b50e1a9-19ef-4ef9-a135-370c861f7f63",
   "metadata": {},
   "outputs": [],
   "source": [
    "time = [0, 2, 4, 8]\n",
    "position = [0, 100, 130, 120]"
   ]
  },
  {
   "cell_type": "code",
   "execution_count": 16,
   "id": "0b479af5-32fd-45ad-868c-098a5d4b2f99",
   "metadata": {},
   "outputs": [
    {
     "data": {
      "image/png": "[encoded data removed]",
      "text/plain": [
       "<Figure size 432x288 with 1 Axes>"
      ]
     },
     "metadata": {
      "needs_background": "light"
     },
     "output_type": "display_data"
    }
   ],
   "source": [
    "plt.plot(time, position)\n",
    "plt.xlabel(\"Time (hours)\")\n",
    "plt.ylabel(\"Position (km)\")\n",
    "plt.show()"
   ]
  },
  {
   "cell_type": "code",
   "execution_count": 17,
   "id": "7edcdc82-c3ec-4c32-a831-dc1b09e18ddb",
   "metadata": {},
   "outputs": [
    {
     "data": {
      "text/html": [
       "<div>\n",
       "<style scoped>\n",
       "    .dataframe tbody tr th:only-of-type {\n",
       "        vertical-align: middle;\n",
       "    }\n",
       "\n",
       "    .dataframe tbody tr th {\n",
       "        vertical-align: top;\n",
       "    }\n",
       "\n",
       "    .dataframe thead th {\n",
       "        text-align: right;\n",
       "    }\n",
       "</style>\n",
       "<table border=\"1\" class=\"dataframe\">\n",
       "  <thead>\n",
       "    <tr style=\"text-align: right;\">\n",
       "      <th></th>\n",
       "      <th>gdpPercap_1952</th>\n",
       "      <th>gdpPercap_1957</th>\n",
       "      <th>gdpPercap_1962</th>\n",
       "      <th>gdpPercap_1967</th>\n",
       "      <th>gdpPercap_1972</th>\n",
       "      <th>gdpPercap_1977</th>\n",
       "      <th>gdpPercap_1982</th>\n",
       "      <th>gdpPercap_1987</th>\n",
       "      <th>gdpPercap_1992</th>\n",
       "      <th>gdpPercap_1997</th>\n",
       "      <th>gdpPercap_2002</th>\n",
       "      <th>gdpPercap_2007</th>\n",
       "    </tr>\n",
       "    <tr>\n",
       "      <th>country</th>\n",
       "      <th></th>\n",
       "      <th></th>\n",
       "      <th></th>\n",
       "      <th></th>\n",
       "      <th></th>\n",
       "      <th></th>\n",
       "      <th></th>\n",
       "      <th></th>\n",
       "      <th></th>\n",
       "      <th></th>\n",
       "      <th></th>\n",
       "      <th></th>\n",
       "    </tr>\n",
       "  </thead>\n",
       "  <tbody>\n",
       "    <tr>\n",
       "      <th>Australia</th>\n",
       "      <td>10039.59564</td>\n",
       "      <td>10949.64959</td>\n",
       "      <td>12217.22686</td>\n",
       "      <td>14526.12465</td>\n",
       "      <td>16788.62948</td>\n",
       "      <td>18334.19751</td>\n",
       "      <td>19477.00928</td>\n",
       "      <td>21888.88903</td>\n",
       "      <td>23424.76683</td>\n",
       "      <td>26997.93657</td>\n",
       "      <td>30687.75473</td>\n",
       "      <td>34435.36744</td>\n",
       "    </tr>\n",
       "    <tr>\n",
       "      <th>New Zealand</th>\n",
       "      <td>10556.57566</td>\n",
       "      <td>12247.39532</td>\n",
       "      <td>13175.67800</td>\n",
       "      <td>14463.91893</td>\n",
       "      <td>16046.03728</td>\n",
       "      <td>16233.71770</td>\n",
       "      <td>17632.41040</td>\n",
       "      <td>19007.19129</td>\n",
       "      <td>18363.32494</td>\n",
       "      <td>21050.41377</td>\n",
       "      <td>23189.80135</td>\n",
       "      <td>25185.00911</td>\n",
       "    </tr>\n",
       "  </tbody>\n",
       "</table>\n",
       "</div>"
      ],
      "text/plain": [
       "             gdpPercap_1952  gdpPercap_1957  gdpPercap_1962  gdpPercap_1967  \\\n",
       "country                                                                       \n",
       "Australia       10039.59564     10949.64959     12217.22686     14526.12465   \n",
       "New Zealand     10556.57566     12247.39532     13175.67800     14463.91893   \n",
       "\n",
       "             gdpPercap_1972  gdpPercap_1977  gdpPercap_1982  gdpPercap_1987  \\\n",
       "country                                                                       \n",
       "Australia       16788.62948     18334.19751     19477.00928     21888.88903   \n",
       "New Zealand     16046.03728     16233.71770     17632.41040     19007.19129   \n",
       "\n",
       "             gdpPercap_1992  gdpPercap_1997  gdpPercap_2002  gdpPercap_2007  \n",
       "country                                                                      \n",
       "Australia       23424.76683     26997.93657     30687.75473     34435.36744  \n",
       "New Zealand     18363.32494     21050.41377     23189.80135     25185.00911  "
      ]
     },
     "execution_count": 17,
     "metadata": {},
     "output_type": "execute_result"
    }
   ],
   "source": [
    "oceania"
   ]
  },
  {
   "cell_type": "code",
   "execution_count": 22,
   "id": "a07a9b9b-008d-4edd-9bb6-f0263acaeb7b",
   "metadata": {},
   "outputs": [],
   "source": [
    "#years = [1952, 1957, 1962 . . . .]\n",
    "years = oceania.columns.str.strip('gdpPercap_').astype('int')"
   ]
  },
  {
   "cell_type": "code",
   "execution_count": 27,
   "id": "74b28c29-1df7-470a-9b65-cba4a6f1fabf",
   "metadata": {},
   "outputs": [
    {
     "data": {
      "image/png": "[encoded data removed]",
      "text/plain": [
       "<Figure size 432x288 with 1 Axes>"
      ]
     },
     "metadata": {
      "needs_background": "light"
     },
     "output_type": "display_data"
    }
   ],
   "source": [
    "plt.plot(years, oceania.loc['Australia'], '-o', label='Australia')\n",
    "plt.plot(years, oceania.loc['New Zealand'], '-s', label='New Zealand')\n",
    "plt.xlabel('Year')\n",
    "plt.ylabel('Gross Domestic Product ($) per capita')\n",
    "plt.legend()\n",
    "plt.show()"
   ]
  },
  {
   "cell_type": "code",
   "execution_count": 35,
   "id": "ea6f6e61-3ecb-4944-b85b-ea3c4e3c10c8",
   "metadata": {},
   "outputs": [],
   "source": [
    "x = earth.loc[:, 'gdpPercap_2007']\n",
    "y = earth.loc[:, 'lifeExp_2007']\n",
    "s = earth.loc[:, 'pop_2007'] / 1e6"
   ]
  },
  {
   "cell_type": "code",
   "execution_count": 36,
   "id": "adbba051-e156-4463-a492-d00e037203ec",
   "metadata": {},
   "outputs": [
    {
     "data": {
      "image/png": "[encoded data removed]",
      "text/plain": [
       "<Figure size 432x288 with 1 Axes>"
      ]
     },
     "metadata": {
      "needs_background": "light"
     },
     "output_type": "display_data"
    }
   ],
   "source": [
    "plt.scatter(x, y, s, alpha=0.5, edgecolor='k')\n",
    "plt.grid(lw=0.5, zorder=-99)\n",
    "plt.xlim(-5000, 115000)\n",
    "plt.ylim(0, 85)\n",
    "plt.xlabel('GDP per capita ($) in 2007')\n",
    "plt.ylabel('Life expectancy in 2007')\n",
    "plt.savefig('scatter_gdp_life_2007.png', bbox_inches='tight', dpi=200)\n",
    "plt.show()"
   ]
  },
  {
   "cell_type": "code",
   "execution_count": 38,
   "id": "257a5ead-f996-477f-a7dd-9790012da103",
   "metadata": {},
   "outputs": [],
   "source": [
    "x = earth.loc[:, 'gdpPercap_1952']\n",
    "y = earth.loc[:, 'lifeExp_1952']\n",
    "s = earth.loc[:, 'pop_1952'] / 1e6"
   ]
  },
  {
   "cell_type": "code",
   "execution_count": 39,
   "id": "1b591540-e78f-4138-8e33-f9ec8ffa6804",
   "metadata": {},
   "outputs": [
    {
     "data": {
      "image/png": "[encoded data removed]",
      "text/plain": [
       "<Figure size 432x288 with 1 Axes>"
      ]
     },
     "metadata": {
      "needs_background": "light"
     },
     "output_type": "display_data"
    }
   ],
   "source": [
    "plt.scatter(x, y, s, alpha=0.5, edgecolor='k')\n",
    "plt.grid(lw=0.5, zorder=-99)\n",
    "plt.xlim(-5000, 115000)\n",
    "plt.ylim(0, 85)\n",
    "plt.xlabel('GDP per capita ($) in 1952')\n",
    "plt.ylabel('Life expectancy in 1952')\n",
    "plt.savefig('scatter_gdp_life_1952.png', bbox_inches='tight', dpi=200)\n",
    "plt.show()"
   ]
  },
  {
   "cell_type": "code",
   "execution_count": 40,
   "id": "c0698c87-e5dc-4865-aeef-4bae699121c9",
   "metadata": {},
   "outputs": [
    {
     "data": {
      "text/plain": [
       "108382.3529"
      ]
     },
     "execution_count": 40,
     "metadata": {},
     "output_type": "execute_result"
    }
   ],
   "source": [
    "x.max()"
   ]
  },
  {
   "cell_type": "code",
   "execution_count": 41,
   "id": "a33bc37a-aac7-40f2-a2e5-86079e836646",
   "metadata": {},
   "outputs": [
    {
     "data": {
      "text/plain": [
       "'Kuwait'"
      ]
     },
     "execution_count": 41,
     "metadata": {},
     "output_type": "execute_result"
    }
   ],
   "source": [
    "x.idxmax()"
   ]
  },
  {
   "cell_type": "markdown",
   "id": "b1cd5a7d-1f1e-4c4f-ba02-f95437a08a21",
   "metadata": {},
   "source": [
    "# 11. Lists"
   ]
  },
  {
   "cell_type": "code",
   "execution_count": 44,
   "id": "c53e6f79-d107-4dad-a521-229e5cede5c1",
   "metadata": {},
   "outputs": [],
   "source": [
    "gdp_nyc = [10000, 12000, 11520, 10203, 10009]"
   ]
  },
  {
   "cell_type": "code",
   "execution_count": 45,
   "id": "136febbf-09ce-48ab-9acf-bd3ce9c63582",
   "metadata": {},
   "outputs": [
    {
     "data": {
      "text/plain": [
       "[10000, 12000, 11520, 10203, 10009]"
      ]
     },
     "execution_count": 45,
     "metadata": {},
     "output_type": "execute_result"
    }
   ],
   "source": [
    "gdp_nyc"
   ]
  },
  {
   "cell_type": "code",
   "execution_count": 46,
   "id": "0c9811f2-2849-489e-9a04-0a383374eed0",
   "metadata": {},
   "outputs": [
    {
     "data": {
      "text/plain": [
       "5"
      ]
     },
     "execution_count": 46,
     "metadata": {},
     "output_type": "execute_result"
    }
   ],
   "source": [
    "len(gdp_nyc)"
   ]
  },
  {
   "cell_type": "code",
   "execution_count": 47,
   "id": "cd966d23-4e55-4feb-bda8-c38609d4f042",
   "metadata": {},
   "outputs": [
    {
     "data": {
      "text/plain": [
       "10000"
      ]
     },
     "execution_count": 47,
     "metadata": {},
     "output_type": "execute_result"
    }
   ],
   "source": [
    "gdp_nyc[0]"
   ]
  },
  {
   "cell_type": "code",
   "execution_count": 48,
   "id": "38e1c92d-d8fe-4af5-bebc-76678d44ed21",
   "metadata": {},
   "outputs": [
    {
     "data": {
      "text/plain": [
       "10009"
      ]
     },
     "execution_count": 48,
     "metadata": {},
     "output_type": "execute_result"
    }
   ],
   "source": [
    "gdp_nyc[4]"
   ]
  },
  {
   "cell_type": "code",
   "execution_count": 49,
   "id": "92eae986-fcb4-4611-b5ce-7ca14690ef08",
   "metadata": {},
   "outputs": [
    {
     "data": {
      "text/plain": [
       "10009"
      ]
     },
     "execution_count": 49,
     "metadata": {},
     "output_type": "execute_result"
    }
   ],
   "source": [
    "gdp_nyc[-1]"
   ]
  },
  {
   "cell_type": "code",
   "execution_count": 51,
   "id": "ba529329-fdac-437d-a906-630181892d54",
   "metadata": {},
   "outputs": [
    {
     "data": {
      "text/plain": [
       "10009"
      ]
     },
     "execution_count": 51,
     "metadata": {},
     "output_type": "execute_result"
    }
   ],
   "source": [
    "gdp_nyc[4]"
   ]
  },
  {
   "cell_type": "code",
   "execution_count": 52,
   "id": "2c6dbc0d-9da2-4cdc-946f-04724d5f6f27",
   "metadata": {},
   "outputs": [
    {
     "data": {
      "text/plain": [
       "[10000, 12000]"
      ]
     },
     "execution_count": 52,
     "metadata": {},
     "output_type": "execute_result"
    }
   ],
   "source": [
    "gdp_nyc[0:2]"
   ]
  },
  {
   "cell_type": "code",
   "execution_count": 53,
   "id": "3af959e0-2c20-4a61-b43b-41b02b45aaab",
   "metadata": {},
   "outputs": [
    {
     "data": {
      "text/plain": [
       "[10000]"
      ]
     },
     "execution_count": 53,
     "metadata": {},
     "output_type": "execute_result"
    }
   ],
   "source": [
    "gdp_nyc[0:1]"
   ]
  },
  {
   "cell_type": "code",
   "execution_count": 55,
   "id": "26ba769b-aee5-49e7-ace4-766c4db69341",
   "metadata": {},
   "outputs": [
    {
     "data": {
      "text/plain": [
       "[10000, 11520, 10009]"
      ]
     },
     "execution_count": 55,
     "metadata": {},
     "output_type": "execute_result"
    }
   ],
   "source": [
    "gdp_nyc[0::2]"
   ]
  },
  {
   "cell_type": "code",
   "execution_count": 56,
   "id": "874bda8c-348d-4e55-8717-0926eb5d3c83",
   "metadata": {},
   "outputs": [
    {
     "data": {
      "text/plain": [
       "[10000, 12000, 11520, 10203, 10009]"
      ]
     },
     "execution_count": 56,
     "metadata": {},
     "output_type": "execute_result"
    }
   ],
   "source": [
    "gdp_nyc"
   ]
  },
  {
   "cell_type": "code",
   "execution_count": 57,
   "id": "ef8511f9-9651-4b8b-ad38-687564de0fd5",
   "metadata": {},
   "outputs": [],
   "source": [
    "gdp_nyc[0] = 20"
   ]
  },
  {
   "cell_type": "code",
   "execution_count": 58,
   "id": "471a73da-ae4e-45c7-8600-f5764054069a",
   "metadata": {},
   "outputs": [
    {
     "data": {
      "text/plain": [
       "[20, 12000, 11520, 10203, 10009]"
      ]
     },
     "execution_count": 58,
     "metadata": {},
     "output_type": "execute_result"
    }
   ],
   "source": [
    "gdp_nyc"
   ]
  },
  {
   "cell_type": "code",
   "execution_count": 59,
   "id": "d3ddebdf-1306-4267-a263-b64137ff8fa0",
   "metadata": {},
   "outputs": [],
   "source": [
    "name = 'alan'"
   ]
  },
  {
   "cell_type": "code",
   "execution_count": 61,
   "id": "b44cb36b-b155-4126-bb71-ff57dc4f12bd",
   "metadata": {},
   "outputs": [
    {
     "ename": "TypeError",
     "evalue": "'str' object does not support item assignment",
     "output_type": "error",
     "traceback": [
      "\u001b[0;31m---------------------------------------------------------------------------\u001b[0m",
      "\u001b[0;31mTypeError\u001b[0m                                 Traceback (most recent call last)",
      "Input \u001b[0;32mIn [61]\u001b[0m, in \u001b[0;36m<cell line: 1>\u001b[0;34m()\u001b[0m\n\u001b[0;32m----> 1\u001b[0m name[\u001b[38;5;241m0\u001b[39m] \u001b[38;5;241m=\u001b[39m \u001b[38;5;124m'\u001b[39m\u001b[38;5;124mo\u001b[39m\u001b[38;5;124m'\u001b[39m\n",
      "\u001b[0;31mTypeError\u001b[0m: 'str' object does not support item assignment"
     ]
    }
   ],
   "source": [
    "name[0] = 'o'"
   ]
  },
  {
   "cell_type": "code",
   "execution_count": 62,
   "id": "bef31e7f-fc25-417a-af44-f1bb0a35a8d7",
   "metadata": {},
   "outputs": [],
   "source": [
    "gdp_nyc.append(100)"
   ]
  },
  {
   "cell_type": "code",
   "execution_count": 63,
   "id": "1b80edfe-9d6c-450a-b6ad-94bdcf7259a8",
   "metadata": {},
   "outputs": [
    {
     "data": {
      "text/plain": [
       "[20, 12000, 11520, 10203, 10009, 100]"
      ]
     },
     "execution_count": 63,
     "metadata": {},
     "output_type": "execute_result"
    }
   ],
   "source": [
    "gdp_nyc"
   ]
  },
  {
   "cell_type": "code",
   "execution_count": 64,
   "id": "a8c73995-1054-43b1-93c1-51a0e0aa854e",
   "metadata": {},
   "outputs": [],
   "source": [
    "gdp_nyc.extend([10,11,12])"
   ]
  },
  {
   "cell_type": "code",
   "execution_count": 65,
   "id": "1fe11907-4915-4113-a1da-5a8b91d34963",
   "metadata": {},
   "outputs": [
    {
     "data": {
      "text/plain": [
       "[20, 12000, 11520, 10203, 10009, 100, 10, 11, 12]"
      ]
     },
     "execution_count": 65,
     "metadata": {},
     "output_type": "execute_result"
    }
   ],
   "source": [
    "gdp_nyc"
   ]
  },
  {
   "cell_type": "code",
   "execution_count": 66,
   "id": "f4e6f52e-a5cf-4103-8ae7-73f68abad09e",
   "metadata": {},
   "outputs": [],
   "source": [
    "gdp_nyc.append([10,10])"
   ]
  },
  {
   "cell_type": "code",
   "execution_count": 67,
   "id": "4007183b-76a7-4185-9bc3-b648e6bc11c0",
   "metadata": {},
   "outputs": [
    {
     "data": {
      "text/plain": [
       "[20, 12000, 11520, 10203, 10009, 100, 10, 11, 12, [10, 10]]"
      ]
     },
     "execution_count": 67,
     "metadata": {},
     "output_type": "execute_result"
    }
   ],
   "source": [
    "gdp_nyc"
   ]
  },
  {
   "cell_type": "code",
   "execution_count": 68,
   "id": "efa89bfe-6328-4bef-8423-15bec9380242",
   "metadata": {},
   "outputs": [],
   "source": [
    "gdp_nyc[0] = 'blue'"
   ]
  },
  {
   "cell_type": "code",
   "execution_count": 69,
   "id": "6f8b6b1b-ea76-49e4-aafb-9160ed035f14",
   "metadata": {},
   "outputs": [
    {
     "data": {
      "text/plain": [
       "['blue', 12000, 11520, 10203, 10009, 100, 10, 11, 12, [10, 10]]"
      ]
     },
     "execution_count": 69,
     "metadata": {},
     "output_type": "execute_result"
    }
   ],
   "source": [
    "gdp_nyc"
   ]
  },
  {
   "cell_type": "code",
   "execution_count": 70,
   "id": "5c925ef7-fda1-4a98-9a48-4c2abf4112b2",
   "metadata": {},
   "outputs": [],
   "source": [
    "del gdp_nyc[0]"
   ]
  },
  {
   "cell_type": "code",
   "execution_count": 71,
   "id": "47e83d14-38b0-4daf-a8a7-6957ecbcb988",
   "metadata": {},
   "outputs": [
    {
     "data": {
      "text/plain": [
       "[12000, 11520, 10203, 10009, 100, 10, 11, 12, [10, 10]]"
      ]
     },
     "execution_count": 71,
     "metadata": {},
     "output_type": "execute_result"
    }
   ],
   "source": [
    "gdp_nyc"
   ]
  },
  {
   "cell_type": "code",
   "execution_count": 72,
   "id": "b22874bc-51ee-4b9a-a6b9-729559870f89",
   "metadata": {},
   "outputs": [],
   "source": [
    "del gdp_nyc[-1]"
   ]
  },
  {
   "cell_type": "code",
   "execution_count": 73,
   "id": "e98bcb71-c643-4387-ad2a-ede4ead26df0",
   "metadata": {},
   "outputs": [
    {
     "data": {
      "text/plain": [
       "[12000, 11520, 10203, 10009, 100, 10, 11, 12]"
      ]
     },
     "execution_count": 73,
     "metadata": {},
     "output_type": "execute_result"
    }
   ],
   "source": [
    "gdp_nyc"
   ]
  },
  {
   "cell_type": "code",
   "execution_count": 74,
   "id": "68533fae-35a3-43e2-b3fe-7023c77a3158",
   "metadata": {},
   "outputs": [],
   "source": [
    "gdp_sealand = []"
   ]
  },
  {
   "cell_type": "code",
   "execution_count": 76,
   "id": "b1b30060-c456-43da-b975-f5caa6c65029",
   "metadata": {},
   "outputs": [
    {
     "data": {
      "text/plain": [
       "0"
      ]
     },
     "execution_count": 76,
     "metadata": {},
     "output_type": "execute_result"
    }
   ],
   "source": [
    "len(gdp_sealand)"
   ]
  },
  {
   "cell_type": "markdown",
   "id": "1b75c737-e66f-4b8c-8a64-c23269050622",
   "metadata": {},
   "source": [
    "# 12. For loops"
   ]
  },
  {
   "cell_type": "code",
   "execution_count": 78,
   "id": "e5f95b08-e60d-4da4-b985-5b253afc9f91",
   "metadata": {},
   "outputs": [
    {
     "name": "stdout",
     "output_type": "stream",
     "text": [
      "12000\n",
      "11520\n",
      "10203\n",
      "10009\n",
      "100\n",
      "10\n",
      "11\n",
      "12\n"
     ]
    }
   ],
   "source": [
    "for number in gdp_nyc:\n",
    "    print(number)"
   ]
  },
  {
   "cell_type": "code",
   "execution_count": 79,
   "id": "4283bf8a-6a82-47a9-b15e-b6d51f8ff412",
   "metadata": {},
   "outputs": [
    {
     "name": "stdout",
     "output_type": "stream",
     "text": [
      "12000\n",
      "11520\n",
      "10203\n"
     ]
    }
   ],
   "source": [
    "print(gdp_nyc[0])\n",
    "print(gdp_nyc[1])\n",
    "print(gdp_nyc[2])"
   ]
  },
  {
   "cell_type": "code",
   "execution_count": 80,
   "id": "acdff81c-ff67-4f9f-bab3-2ab65388adc2",
   "metadata": {},
   "outputs": [
    {
     "name": "stdout",
     "output_type": "stream",
     "text": [
      "12000\n",
      "11520\n",
      "10203\n",
      "10009\n",
      "100\n",
      "10\n",
      "11\n",
      "12\n"
     ]
    }
   ],
   "source": [
    "for foobar in gdp_nyc:\n",
    "    print(foobar)"
   ]
  },
  {
   "cell_type": "code",
   "execution_count": 83,
   "id": "ea556fa3-8c91-44cc-9f9d-e7840c967392",
   "metadata": {},
   "outputs": [
    {
     "name": "stdout",
     "output_type": "stream",
     "text": [
      "12000 per thousand 12.0 squared 144000000\n",
      "11520 per thousand 11.52 squared 132710400\n",
      "10203 per thousand 10.203 squared 104101209\n",
      "10009 per thousand 10.009 squared 100180081\n",
      "100 per thousand 0.1 squared 10000\n",
      "10 per thousand 0.01 squared 100\n",
      "11 per thousand 0.011 squared 121\n",
      "12 per thousand 0.012 squared 144\n"
     ]
    }
   ],
   "source": [
    "for number in gdp_nyc:\n",
    "    per_thousand = number / 1000\n",
    "    squared = number**2\n",
    "    print(number, \"per thousand\", per_thousand, \"squared\", squared)"
   ]
  },
  {
   "cell_type": "code",
   "execution_count": 86,
   "id": "6d7989e5-04e7-4fd1-adbe-5f59879ddb31",
   "metadata": {},
   "outputs": [
    {
     "name": "stdout",
     "output_type": "stream",
     "text": [
      "5\n",
      "6\n",
      "7\n",
      "8\n",
      "9\n"
     ]
    }
   ],
   "source": [
    "for number in range(5,10):\n",
    "    print(number)"
   ]
  },
  {
   "cell_type": "code",
   "execution_count": 87,
   "id": "2c63bcff-bc9a-43c3-bdf9-5396d2b719e0",
   "metadata": {},
   "outputs": [
    {
     "name": "stdout",
     "output_type": "stream",
     "text": [
      "adding 1 to running total 0\n",
      "adding 2 to running total 1\n",
      "adding 3 to running total 3\n",
      "adding 4 to running total 6\n",
      "adding 5 to running total 10\n",
      "adding 6 to running total 15\n",
      "adding 7 to running total 21\n",
      "adding 8 to running total 28\n",
      "adding 9 to running total 36\n",
      "adding 10 to running total 45\n",
      "final total 55\n"
     ]
    }
   ],
   "source": [
    "total = 0\n",
    "for number in range(1,11):\n",
    "    print(\"adding\", number, \"to running total\", total)\n",
    "    total = total + number\n",
    "print(\"final total\", total)"
   ]
  },
  {
   "cell_type": "markdown",
   "id": "ddc1f86b-cba6-44e9-93f1-cd2db47260d7",
   "metadata": {},
   "source": [
    "# 13. Conditionals"
   ]
  },
  {
   "cell_type": "code",
   "execution_count": 88,
   "id": "6b07b97e-3461-42b9-8f7e-2d9504dc1029",
   "metadata": {},
   "outputs": [
    {
     "name": "stdout",
     "output_type": "stream",
     "text": [
      "3.54 is large\n"
     ]
    }
   ],
   "source": [
    "x = 3.54\n",
    "if x > 3.0:\n",
    "    print(x, \"is large\")"
   ]
  },
  {
   "cell_type": "code",
   "execution_count": 89,
   "id": "087e7ba7-4bea-40e1-9c23-c2e16fd17b90",
   "metadata": {},
   "outputs": [],
   "source": [
    "x = 2.07\n",
    "if x >= 3.0:\n",
    "    print(x, \"is large, too\")"
   ]
  },
  {
   "cell_type": "code",
   "execution_count": 90,
   "id": "7827e1ed-bdf2-4627-8466-960f75a419f4",
   "metadata": {},
   "outputs": [
    {
     "data": {
      "text/plain": [
       "[12000, 11520, 10203, 10009, 100, 10, 11, 12]"
      ]
     },
     "execution_count": 90,
     "metadata": {},
     "output_type": "execute_result"
    }
   ],
   "source": [
    "gdp_nyc"
   ]
  },
  {
   "cell_type": "code",
   "execution_count": 93,
   "id": "655e7a02-371c-4eed-b3c2-42a985ad2054",
   "metadata": {},
   "outputs": [
    {
     "name": "stdout",
     "output_type": "stream",
     "text": [
      "12000 is HUUUUUUGE\n",
      "11520 is HUUUUUUGE\n",
      "10203 is kinda big\n",
      "10009 is kinda big\n",
      "100 is kinda big\n",
      "10 is small\n",
      "11 is small\n",
      "12 is small\n"
     ]
    }
   ],
   "source": [
    "for x in gdp_nyc:\n",
    "    if x >= 11000:\n",
    "        print(x, \"is HUUUUUUGE\")\n",
    "    elif x >= 100:\n",
    "        print(x, \"is kinda big\")\n",
    "    else:\n",
    "        print(x, \"is small\")"
   ]
  },
  {
   "cell_type": "code",
   "execution_count": 94,
   "id": "a7b45202-da01-4ec1-a2ea-0476349a45c2",
   "metadata": {},
   "outputs": [
    {
     "name": "stdout",
     "output_type": "stream",
     "text": [
      "grade is C\n"
     ]
    }
   ],
   "source": [
    "grade = 85\n",
    "\n",
    "if grade >= 70:\n",
    "    print(\"grade is C\")\n",
    "elif grade >= 80:\n",
    "    print(\"grade is B\")\n",
    "elif grade >= 90:\n",
    "    print(\"grade is A\")"
   ]
  },
  {
   "cell_type": "code",
   "execution_count": 95,
   "id": "28c192a7-d5e5-4c5c-8a5e-2d9a9de11aa1",
   "metadata": {},
   "outputs": [
    {
     "name": "stdout",
     "output_type": "stream",
     "text": [
      "grade is B\n"
     ]
    }
   ],
   "source": [
    "grade = 85\n",
    "\n",
    "if grade >= 70 and grade < 80:\n",
    "    print(\"grade is C\")\n",
    "elif grade >= 80 and grade < 90:\n",
    "    print(\"grade is B\")\n",
    "elif grade >= 90 and grade < 100:\n",
    "    print(\"grade is A\")"
   ]
  },
  {
   "cell_type": "code",
   "execution_count": 97,
   "id": "32abb2aa-9da6-4baa-8461-3fa5da25e934",
   "metadata": {},
   "outputs": [],
   "source": [
    "grade = 85\n",
    "\n",
    "if grade >= 99 or grade < 50:\n",
    "    print(\"grade is... exceptional...\")"
   ]
  },
  {
   "cell_type": "markdown",
   "id": "34d1a5f6-4e46-42d6-93f9-0727ff7d61cd",
   "metadata": {
    "tags": []
   },
   "source": [
    "## Exercises A and B\n",
    "\n",
    "* A. Given a list of numbers, report whether the number 10000 is present in the list or not.\n",
    "* B. Given a list of words, check if the color \"mauve\" is present."
   ]
  },
  {
   "cell_type": "code",
   "execution_count": 99,
   "id": "21b896fe-a4ba-491a-bd03-9d2bcb5fdb20",
   "metadata": {},
   "outputs": [
    {
     "data": {
      "text/plain": [
       "[12000, 11520, 10203, 10009, 100, 10, 11, 12]"
      ]
     },
     "execution_count": 99,
     "metadata": {},
     "output_type": "execute_result"
    }
   ],
   "source": [
    "gdp_nyc"
   ]
  },
  {
   "cell_type": "code",
   "execution_count": 109,
   "id": "33383d3a-ea79-4141-8eec-d67dd405537f",
   "metadata": {},
   "outputs": [
    {
     "name": "stdout",
     "output_type": "stream",
     "text": [
      "found 10203 or 100!\n",
      "found 10203 or 100!\n"
     ]
    }
   ],
   "source": [
    "# Exercise A\n",
    "for x in gdp_nyc:\n",
    "    if x == 10203 or x == 100:\n",
    "        print(\"found 10203 or 100!\")"
   ]
  },
  {
   "cell_type": "code",
   "execution_count": 108,
   "id": "cd3bdb2d-ac19-4610-9769-45d96cda5dee",
   "metadata": {},
   "outputs": [
    {
     "name": "stdout",
     "output_type": "stream",
     "text": [
      "mauuuuuuve\n"
     ]
    }
   ],
   "source": [
    "# Exercise B\n",
    "for x in [\"red\", \"blue\", \"mauve\", \"ochre\"]:\n",
    "    if x == 'mauve':\n",
    "        print(\"mauuuuuuve\")"
   ]
  },
  {
   "cell_type": "markdown",
   "id": "e542b979-10c8-40a9-a5d8-eba9fb9c1258",
   "metadata": {},
   "source": [
    "## Exercise C\n",
    "\n",
    "Given a list of numbers, find the maximum value WITHOUT using the built-in max(...) function.  Only use a for loop, conditional test, and variables."
   ]
  },
  {
   "cell_type": "code",
   "execution_count": 110,
   "id": "9a7fb208-daa8-4bbe-af96-52a6dc007e25",
   "metadata": {},
   "outputs": [
    {
     "data": {
      "text/plain": [
       "[12000, 11520, 10203, 10009, 100, 10, 11, 12]"
      ]
     },
     "execution_count": 110,
     "metadata": {},
     "output_type": "execute_result"
    }
   ],
   "source": [
    "gdp_nyc"
   ]
  },
  {
   "cell_type": "code",
   "execution_count": 112,
   "id": "927a7211-f2d8-4167-acaa-f87841c29c46",
   "metadata": {},
   "outputs": [],
   "source": [
    "gdp_nyc[-2] = 1e6"
   ]
  },
  {
   "cell_type": "code",
   "execution_count": 113,
   "id": "4ae3842e-a9ed-4606-a3c2-106f5bcc483f",
   "metadata": {},
   "outputs": [
    {
     "name": "stdout",
     "output_type": "stream",
     "text": [
      "1000000.0\n"
     ]
    }
   ],
   "source": [
    "max_so_far = 0\n",
    "for x in gdp_nyc:\n",
    "    if x > max_so_far:\n",
    "        max_so_far = x\n",
    "print(max_so_far)"
   ]
  },
  {
   "cell_type": "code",
   "execution_count": 114,
   "id": "687d3a04-0b92-4f1b-a870-5c28e9670f75",
   "metadata": {},
   "outputs": [
    {
     "name": "stdout",
     "output_type": "stream",
     "text": [
      "0\n"
     ]
    }
   ],
   "source": [
    "max_so_far = 0\n",
    "for x in [-100, -20, -1]:\n",
    "    if x > max_so_far:\n",
    "        max_so_far = x\n",
    "print(max_so_far)"
   ]
  },
  {
   "cell_type": "code",
   "execution_count": 115,
   "id": "db543659-272a-43b7-920f-4d3e6d966ad3",
   "metadata": {},
   "outputs": [
    {
     "name": "stdout",
     "output_type": "stream",
     "text": [
      "1000000.0\n"
     ]
    }
   ],
   "source": [
    "max_so_far = gdp_nyc[0]\n",
    "\n",
    "for x in gdp_nyc[1:]:\n",
    "    if x > max_so_far:\n",
    "        max_so_far = x\n",
    "\n",
    "print(max_so_far)"
   ]
  },
  {
   "cell_type": "code",
   "execution_count": 118,
   "id": "2803305a-d69e-4f60-9ff7-9d57dcc66583",
   "metadata": {},
   "outputs": [],
   "source": [
    "import math"
   ]
  },
  {
   "cell_type": "code",
   "execution_count": 120,
   "id": "749bb93c-b38e-4e89-a82b-7abea3e64728",
   "metadata": {},
   "outputs": [
    {
     "name": "stdout",
     "output_type": "stream",
     "text": [
      "-1\n"
     ]
    }
   ],
   "source": [
    "max_so_far = -math.inf\n",
    "\n",
    "for x in [-100, -10, -1]:\n",
    "    if (max_so_far is None) or (x > max_so_far):\n",
    "        max_so_far = x\n",
    "\n",
    "print(max_so_far)"
   ]
  },
  {
   "cell_type": "code",
   "execution_count": 117,
   "id": "1eb9727e-04d0-4f34-8274-e5324ba6977c",
   "metadata": {},
   "outputs": [
    {
     "data": {
      "text/plain": [
       "1000000.0"
      ]
     },
     "execution_count": 117,
     "metadata": {},
     "output_type": "execute_result"
    }
   ],
   "source": [
    "max(gdp_nyc)"
   ]
  },
  {
   "cell_type": "markdown",
   "id": "ea19c481-c20f-41af-b682-ec88ae1f0f23",
   "metadata": {},
   "source": [
    "# 14. Looping over data sets"
   ]
  },
  {
   "cell_type": "code",
   "execution_count": 121,
   "id": "9bb3662b-c23e-49f3-81b7-a92c4fb8a554",
   "metadata": {},
   "outputs": [],
   "source": [
    "import pandas as pd"
   ]
  },
  {
   "cell_type": "code",
   "execution_count": 122,
   "id": "969a53e5-c918-4931-bd8d-9a2e3f3b27bb",
   "metadata": {},
   "outputs": [
    {
     "name": "stdout",
     "output_type": "stream",
     "text": [
      "data/gapminder_gdp_africa.csv\n",
      "298.8462121\n",
      "data/gapminder_gdp_asia.csv\n",
      "331.0\n"
     ]
    }
   ],
   "source": [
    "filenames = [\n",
    "    'data/gapminder_gdp_africa.csv',\n",
    "    'data/gapminder_gdp_asia.csv'\n",
    "]\n",
    "\n",
    "for filename in filenames:\n",
    "    continent = pd.read_csv(filename, index_col='country')\n",
    "    print(filename)\n",
    "    print(continent.loc[:,'gdpPercap_1952'].min())"
   ]
  },
  {
   "cell_type": "code",
   "execution_count": 123,
   "id": "ff43be37-5c0d-4c64-9d3b-a36592c503f8",
   "metadata": {},
   "outputs": [],
   "source": [
    "import glob"
   ]
  },
  {
   "cell_type": "code",
   "execution_count": 124,
   "id": "71420f76-a165-425e-bc5e-158b31ffc94c",
   "metadata": {},
   "outputs": [
    {
     "data": {
      "text/plain": [
       "['data/gapminder_gdp_americas.csv',\n",
       " 'data/gapminder_gdp_europe.csv',\n",
       " 'data/gapminder_all.csv',\n",
       " 'data/gapminder_gdp_oceania.csv',\n",
       " 'data/gapminder_gdp_africa.csv',\n",
       " 'data/gapminder_gdp_asia.csv']"
      ]
     },
     "execution_count": 124,
     "metadata": {},
     "output_type": "execute_result"
    }
   ],
   "source": [
    "glob.glob('data/*.csv')"
   ]
  },
  {
   "cell_type": "code",
   "execution_count": 125,
   "id": "6cac3a57-cfa9-4c21-8096-4b9f761c7f4b",
   "metadata": {},
   "outputs": [
    {
     "data": {
      "text/plain": [
       "[]"
      ]
     },
     "execution_count": 125,
     "metadata": {},
     "output_type": "execute_result"
    }
   ],
   "source": [
    "glob.glob('data/*.txt')"
   ]
  },
  {
   "cell_type": "code",
   "execution_count": 126,
   "id": "9c20d4b5-2c2e-4412-be55-7ecdc403e4ce",
   "metadata": {},
   "outputs": [
    {
     "name": "stdout",
     "output_type": "stream",
     "text": [
      "data/gapminder_gdp_americas.csv\n",
      "     1397.717137\n",
      "data/gapminder_gdp_europe.csv\n",
      "     973.5331948\n",
      "data/gapminder_all.csv\n",
      "     298.8462121\n",
      "data/gapminder_gdp_oceania.csv\n",
      "     10039.59564\n",
      "data/gapminder_gdp_africa.csv\n",
      "     298.8462121\n",
      "data/gapminder_gdp_asia.csv\n",
      "     331.0\n"
     ]
    }
   ],
   "source": [
    "for filename in glob.glob('data/*.csv'):\n",
    "    continent = pd.read_csv(filename, index_col='country')\n",
    "    print(filename)\n",
    "    print(\"    \", continent.loc[:,'gdpPercap_1952'].min())"
   ]
  },
  {
   "cell_type": "code",
   "execution_count": 127,
   "id": "bdf002bc-8838-4da9-be1c-74149a8dc41c",
   "metadata": {},
   "outputs": [
    {
     "data": {
      "text/plain": [
       "['data/gapminder_gdp_americas.csv', 'data/gapminder_gdp_asia.csv']"
      ]
     },
     "execution_count": 127,
     "metadata": {},
     "output_type": "execute_result"
    }
   ],
   "source": [
    "glob.glob('data/*as*.csv')"
   ]
  },
  {
   "cell_type": "code",
   "execution_count": 128,
   "id": "69ec4e01-3cd7-4863-a939-ebb52e10c24d",
   "metadata": {},
   "outputs": [],
   "source": [
    "import matplotlib.pyplot as plt"
   ]
  },
  {
   "cell_type": "code",
   "execution_count": 132,
   "id": "0c2a9362-3639-474c-8618-f44cc19c534d",
   "metadata": {},
   "outputs": [
    {
     "data": {
      "image/png": "[encoded data removed]",
      "text/plain": [
       "<Figure size 432x288 with 1 Axes>"
      ]
     },
     "metadata": {
      "needs_background": "light"
     },
     "output_type": "display_data"
    }
   ],
   "source": [
    "for filename in glob.glob('data/gapminder_gdp_*.csv'):\n",
    "    if filename != 'data/gapminder_gdp_americas.csv':\n",
    "        continent = pd.read_csv(filename, index_col='country')\n",
    "        years = continent.columns.str.strip('gdpPercap_').astype('int')\n",
    "        plt.plot(years, continent.mean(), '-o', label=filename)\n",
    "plt.legend()\n",
    "plt.show()"
   ]
  },
  {
   "cell_type": "markdown",
   "id": "f323af0d-51f1-4c4a-82d0-db57928f9c53",
   "metadata": {},
   "source": [
    "# 16. Writing Functions"
   ]
  },
  {
   "cell_type": "code",
   "execution_count": 133,
   "id": "1f9251ad-31d1-4fcc-aac9-219261e6e48c",
   "metadata": {},
   "outputs": [
    {
     "name": "stdout",
     "output_type": "stream",
     "text": [
      "hey there\n"
     ]
    }
   ],
   "source": [
    "def print_greeting():\n",
    "    print(\"Hello!\")\n",
    "    print(\"The weather is nice today.\")\n",
    "    print(\"Really?\")\n",
    "\n",
    "print(\"hey there\")"
   ]
  },
  {
   "cell_type": "code",
   "execution_count": 135,
   "id": "0bafabf2-8ecc-414e-8063-0152d9997068",
   "metadata": {},
   "outputs": [
    {
     "name": "stdout",
     "output_type": "stream",
     "text": [
      "Hello!\n",
      "The weather is nice today.\n",
      "Really?\n"
     ]
    }
   ],
   "source": [
    "print_greeting()"
   ]
  },
  {
   "cell_type": "code",
   "execution_count": 136,
   "id": "d639d540-bd73-4d2b-a398-5790b58c4463",
   "metadata": {},
   "outputs": [],
   "source": [
    "def print_date(year, month, day):\n",
    "    joined = str(year) + \"/\" + str(month) + \"/\" + str(day)\n",
    "    print(joined)"
   ]
  },
  {
   "cell_type": "code",
   "execution_count": 137,
   "id": "9985e274-0c0b-46f3-abd6-b66222a00c19",
   "metadata": {},
   "outputs": [
    {
     "name": "stdout",
     "output_type": "stream",
     "text": [
      "1871/3/19\n"
     ]
    }
   ],
   "source": [
    "print_date(1871, 3, 19)"
   ]
  },
  {
   "cell_type": "code",
   "execution_count": 139,
   "id": "84f85ac7-a2be-44a6-8095-9a8594979564",
   "metadata": {},
   "outputs": [
    {
     "name": "stdout",
     "output_type": "stream",
     "text": [
      "1871/3/19\n"
     ]
    }
   ],
   "source": [
    "print_date(month=3, day=19, year=1871)"
   ]
  },
  {
   "cell_type": "code",
   "execution_count": 142,
   "id": "65e260e3-2524-431c-9a73-9aed6e2c9845",
   "metadata": {},
   "outputs": [],
   "source": [
    "def print_date2(year, month, day):\n",
    "    joined = f\"{year}/{month}/{day}\"\n",
    "    print(joined)"
   ]
  },
  {
   "cell_type": "code",
   "execution_count": 143,
   "id": "ba103d07-8361-480a-9b20-bb511cb43ea7",
   "metadata": {},
   "outputs": [
    {
     "name": "stdout",
     "output_type": "stream",
     "text": [
      "2000/1/1\n"
     ]
    }
   ],
   "source": [
    "print_date2(2000, 1, 1)"
   ]
  },
  {
   "cell_type": "code",
   "execution_count": 144,
   "id": "4938de85-07f5-42b5-ac3f-5ef752a03a1b",
   "metadata": {},
   "outputs": [],
   "source": [
    "def average(values):\n",
    "    return sum(values) / len(values)"
   ]
  },
  {
   "cell_type": "code",
   "execution_count": 146,
   "id": "2cb681c5-b329-4747-946f-8c97a6544cb8",
   "metadata": {},
   "outputs": [],
   "source": [
    "a = average([1,3,4])"
   ]
  },
  {
   "cell_type": "code",
   "execution_count": 147,
   "id": "2a267699-e81b-47cb-b323-465ef5669797",
   "metadata": {},
   "outputs": [
    {
     "name": "stdout",
     "output_type": "stream",
     "text": [
      "2.6666666666666665\n"
     ]
    }
   ],
   "source": [
    "print(a)"
   ]
  },
  {
   "cell_type": "code",
   "execution_count": 148,
   "id": "d2cecc9f-ec5b-4da2-937f-e3abd9ea85e4",
   "metadata": {},
   "outputs": [
    {
     "ename": "ZeroDivisionError",
     "evalue": "division by zero",
     "output_type": "error",
     "traceback": [
      "\u001b[0;31m---------------------------------------------------------------------------\u001b[0m",
      "\u001b[0;31mZeroDivisionError\u001b[0m                         Traceback (most recent call last)",
      "Input \u001b[0;32mIn [148]\u001b[0m, in \u001b[0;36m<cell line: 1>\u001b[0;34m()\u001b[0m\n\u001b[0;32m----> 1\u001b[0m a \u001b[38;5;241m=\u001b[39m \u001b[43maverage\u001b[49m\u001b[43m(\u001b[49m\u001b[43m[\u001b[49m\u001b[43m]\u001b[49m\u001b[43m)\u001b[49m\n",
      "Input \u001b[0;32mIn [144]\u001b[0m, in \u001b[0;36maverage\u001b[0;34m(values)\u001b[0m\n\u001b[1;32m      1\u001b[0m \u001b[38;5;28;01mdef\u001b[39;00m \u001b[38;5;21maverage\u001b[39m(values):\n\u001b[0;32m----> 2\u001b[0m     \u001b[38;5;28;01mreturn\u001b[39;00m \u001b[38;5;28;43msum\u001b[39;49m\u001b[43m(\u001b[49m\u001b[43mvalues\u001b[49m\u001b[43m)\u001b[49m\u001b[43m \u001b[49m\u001b[38;5;241;43m/\u001b[39;49m\u001b[43m \u001b[49m\u001b[38;5;28;43mlen\u001b[39;49m\u001b[43m(\u001b[49m\u001b[43mvalues\u001b[49m\u001b[43m)\u001b[49m\n",
      "\u001b[0;31mZeroDivisionError\u001b[0m: division by zero"
     ]
    }
   ],
   "source": [
    "a = average([])"
   ]
  },
  {
   "cell_type": "code",
   "execution_count": 149,
   "id": "7f601b17-76f6-45ac-a306-889ebecfa0bb",
   "metadata": {},
   "outputs": [],
   "source": [
    "def average(values):\n",
    "    if len(values) == 0:\n",
    "        return None\n",
    "    return sum(values) / len(values)"
   ]
  },
  {
   "cell_type": "code",
   "execution_count": 150,
   "id": "5b36706a-094e-4504-b633-d6e7fe034d9e",
   "metadata": {},
   "outputs": [],
   "source": [
    "a = average([])"
   ]
  },
  {
   "cell_type": "code",
   "execution_count": 151,
   "id": "793ed79c-62dc-4708-874e-5e5ea44bf77a",
   "metadata": {},
   "outputs": [],
   "source": [
    "a"
   ]
  },
  {
   "cell_type": "code",
   "execution_count": 152,
   "id": "a8929fa1-d58a-455b-8d32-c16a2ff57c75",
   "metadata": {},
   "outputs": [
    {
     "name": "stdout",
     "output_type": "stream",
     "text": [
      "None\n"
     ]
    }
   ],
   "source": [
    "print(a)"
   ]
  },
  {
   "cell_type": "code",
   "execution_count": 156,
   "id": "2bb19c34-fb1f-4c54-859b-edf1b9c11fee",
   "metadata": {},
   "outputs": [],
   "source": [
    "def report(pressure):\n",
    "    print(\"today's pressure is\", pressure, \"mmHg\")\n",
    "    return \"blah\""
   ]
  },
  {
   "cell_type": "code",
   "execution_count": 154,
   "id": "a48f8ee5-f27c-482f-8def-636ca10036ce",
   "metadata": {},
   "outputs": [
    {
     "name": "stdout",
     "output_type": "stream",
     "text": [
      "Calling <function report at 0x7fe8283d04c0> 22.5\n"
     ]
    }
   ],
   "source": [
    "print(\"Calling\", report, 22.5)"
   ]
  },
  {
   "cell_type": "code",
   "execution_count": 157,
   "id": "a629ac51-f3f2-4711-a10f-3947dd88b4ac",
   "metadata": {},
   "outputs": [
    {
     "name": "stdout",
     "output_type": "stream",
     "text": [
      "today's pressure is 22.5 mmHg\n",
      "Calling report blah\n"
     ]
    }
   ],
   "source": [
    "print(\"Calling report\", report(22.5))"
   ]
  },
  {
   "cell_type": "markdown",
   "id": "bb121c5b-2565-4c6e-bb85-dd9517aacca4",
   "metadata": {},
   "source": [
    "## Exercise D (order of operations)\n",
    "\n",
    "Fix this example below to report the time only once. Explain what is happening."
   ]
  },
  {
   "cell_type": "code",
   "execution_count": null,
   "id": "b1211f7b-7fab-43e5-bd0e-7a680c8d4e2b",
   "metadata": {},
   "outputs": [],
   "source": [
    "# original not working code\n",
    "\n",
    "result = print_time_exercise(11, 37, 59)\n",
    "\n",
    "def print_time_exercise(hour, minute, second):\n",
    "    time_string = f\"{hour}:{minute}:{second}\"\n",
    "    print(time_string)\n",
    "\n",
    "print(\"The reported time is\", result)"
   ]
  },
  {
   "cell_type": "code",
   "execution_count": 168,
   "id": "24f80ed4-f2c8-4163-bc84-0180c3fd1f36",
   "metadata": {},
   "outputs": [
    {
     "name": "stdout",
     "output_type": "stream",
     "text": [
      "The reported time is 11:37:59\n"
     ]
    }
   ],
   "source": [
    "# working code\n",
    "\n",
    "def format_time_exercise(hour, minute, second):\n",
    "    time_string = f\"{hour}:{minute}:{second}\"\n",
    "    return time_string\n",
    "\n",
    "result = format_time_exercise(11, 37, 59)\n",
    "\n",
    "print(\"The reported time is\", result)"
   ]
  },
  {
   "cell_type": "markdown",
   "id": "f2bd28fe-91a3-470b-97bf-4c5f930feb14",
   "metadata": {},
   "source": [
    "# 17. Variable scope"
   ]
  },
  {
   "cell_type": "code",
   "execution_count": 169,
   "id": "9dd32849-c188-47fa-b25c-ae59f2099c1f",
   "metadata": {},
   "outputs": [],
   "source": [
    "pressure = 103.9"
   ]
  },
  {
   "cell_type": "code",
   "execution_count": 170,
   "id": "75992c98-f2e3-4fc6-a445-d2ecde3c527a",
   "metadata": {},
   "outputs": [],
   "source": [
    "def adjust(t):\n",
    "    temperature = t * 1.5 / pressure\n",
    "    return temperature"
   ]
  },
  {
   "cell_type": "code",
   "execution_count": 171,
   "id": "a7660051-f15d-43a0-87f1-7dbb4550d625",
   "metadata": {},
   "outputs": [
    {
     "name": "stdout",
     "output_type": "stream",
     "text": [
      "adjusted 0.012993262752646777\n"
     ]
    }
   ],
   "source": [
    "print(\"adjusted\", adjust(0.9))"
   ]
  },
  {
   "cell_type": "code",
   "execution_count": 172,
   "id": "9fe02234-5a39-43bc-8389-14bda93a1fec",
   "metadata": {},
   "outputs": [
    {
     "ename": "NameError",
     "evalue": "name 'temperature' is not defined",
     "output_type": "error",
     "traceback": [
      "\u001b[0;31m---------------------------------------------------------------------------\u001b[0m",
      "\u001b[0;31mNameError\u001b[0m                                 Traceback (most recent call last)",
      "Input \u001b[0;32mIn [172]\u001b[0m, in \u001b[0;36m<cell line: 1>\u001b[0;34m()\u001b[0m\n\u001b[0;32m----> 1\u001b[0m \u001b[38;5;28mprint\u001b[39m(\u001b[43mtemperature\u001b[49m)\n",
      "\u001b[0;31mNameError\u001b[0m: name 'temperature' is not defined"
     ]
    }
   ],
   "source": [
    "print(temperature)"
   ]
  },
  {
   "cell_type": "code",
   "execution_count": 175,
   "id": "717c76dd-e884-4c04-a2e2-e6e19cebba0e",
   "metadata": {},
   "outputs": [
    {
     "name": "stdout",
     "output_type": "stream",
     "text": [
      "pressure 103.9\n",
      "adjusted 0.135\n",
      "pressure 10\n"
     ]
    },
    {
     "ename": "NameError",
     "evalue": "name 'temperature' is not defined",
     "output_type": "error",
     "traceback": [
      "\u001b[0;31m---------------------------------------------------------------------------\u001b[0m",
      "\u001b[0;31mNameError\u001b[0m                                 Traceback (most recent call last)",
      "Input \u001b[0;32mIn [175]\u001b[0m, in \u001b[0;36m<cell line: 12>\u001b[0;34m()\u001b[0m\n\u001b[1;32m     10\u001b[0m \u001b[38;5;28mprint\u001b[39m(\u001b[38;5;124m\"\u001b[39m\u001b[38;5;124madjusted\u001b[39m\u001b[38;5;124m\"\u001b[39m, adjust(\u001b[38;5;241m0.9\u001b[39m))\n\u001b[1;32m     11\u001b[0m \u001b[38;5;28mprint\u001b[39m(\u001b[38;5;124m\"\u001b[39m\u001b[38;5;124mpressure\u001b[39m\u001b[38;5;124m\"\u001b[39m, pressure)\n\u001b[0;32m---> 12\u001b[0m \u001b[38;5;28mprint\u001b[39m(\u001b[38;5;124m\"\u001b[39m\u001b[38;5;124mtemperature\u001b[39m\u001b[38;5;124m\"\u001b[39m, \u001b[43mtemperature\u001b[49m)\n",
      "\u001b[0;31mNameError\u001b[0m: name 'temperature' is not defined"
     ]
    }
   ],
   "source": [
    "pressure = 103.9\n",
    "\n",
    "def adjust(t):\n",
    "    global pressure\n",
    "    pressure = 10\n",
    "    temperature = t * 1.5 / pressure\n",
    "    return temperature\n",
    "\n",
    "print(\"pressure\", pressure)\n",
    "print(\"adjusted\", adjust(0.9))\n",
    "print(\"pressure\", pressure)\n",
    "print(\"temperature\", temperature)"
   ]
  },
  {
   "cell_type": "markdown",
   "id": "4d22e10e-74e1-4b71-b165-d8cc238c5cf0",
   "metadata": {},
   "source": [
    "## Exercise E\n",
    "\n",
    "What is output by the following program?  Why?\n",
    "What happens to `limit` and `value` as the program proceeds."
   ]
  },
  {
   "cell_type": "code",
   "execution_count": 177,
   "id": "e1a48a5b-e611-42c3-8943-a379112e807f",
   "metadata": {},
   "outputs": [
    {
     "name": "stdout",
     "output_type": "stream",
     "text": [
      "25 100 20\n"
     ]
    }
   ],
   "source": [
    "limit = 100\n",
    "\n",
    "def clip(value):\n",
    "    limit = 20  # overrides the outside definition of limit!\n",
    "    clipped_value = min(max(0.0, value), limit)\n",
    "    return clipped_value\n",
    "\n",
    "value = 25\n",
    "\n",
    "print(value, limit, clip(value))"
   ]
  },
  {
   "cell_type": "markdown",
   "id": "99f8fc8f-cfa5-4200-b3f4-d13fa8bad470",
   "metadata": {},
   "source": [
    "# Putting it all together"
   ]
  },
  {
   "cell_type": "code",
   "execution_count": 178,
   "id": "777096a3-7ea8-4779-a50f-c4632643daec",
   "metadata": {},
   "outputs": [],
   "source": [
    "import pandas as pd\n",
    "import matplotlib.pyplot as plt"
   ]
  },
  {
   "cell_type": "code",
   "execution_count": 179,
   "id": "26d0a42e-70f7-4a8b-a7a5-92cb91027876",
   "metadata": {},
   "outputs": [],
   "source": [
    "earth = pd.read_csv('data/gapminder_all.csv', index_col='country')"
   ]
  },
  {
   "cell_type": "code",
   "execution_count": 186,
   "id": "5d27f8cf-b46d-414f-9f34-d46ff002c98f",
   "metadata": {},
   "outputs": [],
   "source": [
    "def annual_scatter_plot(year):\n",
    "    \"\"\"\n",
    "    Make a scatter plot of GDP versus life expectancy\n",
    "    for all countries on the Earth in the gapminder dataset,\n",
    "    and save a PNG image of the plot to your current working directory.\n",
    "    \n",
    "    Arguments:\n",
    "        year: integer representing which year's data to plot.\n",
    "        The year must correspond to a column in the dataset\n",
    "        'data/gapminder_all.csv'\n",
    "    Result:\n",
    "        This function's return value is None (python default)\n",
    "        A new PNG file created in your current working directory.\n",
    "    \"\"\"\n",
    "    \n",
    "    # note that the variable earth\n",
    "    # is not declared locally\n",
    "    # to avoid reloading every time we make a plot\n",
    "\n",
    "    x = earth.loc[:, f'gdpPercap_{year}']\n",
    "    y = earth.loc[:, f'lifeExp_{year}']\n",
    "    s = earth.loc[:, f'pop_{year}'] / 1e6\n",
    "\n",
    "    plt.scatter(x, y, s, alpha=0.5, edgecolor='k')\n",
    "    plt.grid(lw=0.5, zorder=-99)\n",
    "    plt.xlim(-5000, 115000)\n",
    "    plt.ylim(0, 85)\n",
    "    plt.xlabel(f'GDP per capita ($) in {year}')\n",
    "    plt.ylabel(f'Life expectancy in {year}')\n",
    "    plt.savefig(f'scatter_gdp_life_{year}.png',\n",
    "                bbox_inches='tight', dpi=200)\n",
    "    plt.show()"
   ]
  },
  {
   "cell_type": "code",
   "execution_count": 185,
   "id": "dbc283b1-999b-4465-bb7c-8b42f0f9f074",
   "metadata": {},
   "outputs": [
    {
     "data": {
      "image/png": "[encoded data removed]",
      "text/plain": [
       "<Figure size 432x288 with 1 Axes>"
      ]
     },
     "metadata": {
      "needs_background": "light"
     },
     "output_type": "display_data"
    }
   ],
   "source": [
    "annual_scatter_plot(2002)"
   ]
  },
  {
   "cell_type": "code",
   "execution_count": 188,
   "id": "c0dce152-e486-4c90-925b-56c5eddac727",
   "metadata": {
    "collapsed": true,
    "jupyter": {
     "outputs_hidden": true
    },
    "tags": []
   },
   "outputs": [
    {
     "ename": "TypeError",
     "evalue": "Cannot cast Index to dtype int64",
     "output_type": "error",
     "traceback": [
      "\u001b[0;31m---------------------------------------------------------------------------\u001b[0m",
      "\u001b[0;31mValueError\u001b[0m                                Traceback (most recent call last)",
      "File \u001b[0;32m~/opt/miniconda3/lib/python3.9/site-packages/pandas/core/indexes/base.py:1059\u001b[0m, in \u001b[0;36mIndex.astype\u001b[0;34m(self, dtype, copy)\u001b[0m\n\u001b[1;32m   1058\u001b[0m \u001b[38;5;28;01mtry\u001b[39;00m:\n\u001b[0;32m-> 1059\u001b[0m     new_values \u001b[38;5;241m=\u001b[39m \u001b[43mvalues\u001b[49m\u001b[38;5;241;43m.\u001b[39;49m\u001b[43mastype\u001b[49m\u001b[43m(\u001b[49m\u001b[43mdtype\u001b[49m\u001b[43m,\u001b[49m\u001b[43m \u001b[49m\u001b[43mcopy\u001b[49m\u001b[38;5;241;43m=\u001b[39;49m\u001b[43mcopy\u001b[49m\u001b[43m)\u001b[49m\n\u001b[1;32m   1060\u001b[0m \u001b[38;5;28;01mexcept\u001b[39;00m (\u001b[38;5;167;01mTypeError\u001b[39;00m, \u001b[38;5;167;01mValueError\u001b[39;00m) \u001b[38;5;28;01mas\u001b[39;00m err:\n",
      "\u001b[0;31mValueError\u001b[0m: invalid literal for int() with base 10: 'ontinent'",
      "\nThe above exception was the direct cause of the following exception:\n",
      "\u001b[0;31mTypeError\u001b[0m                                 Traceback (most recent call last)",
      "Input \u001b[0;32mIn [188]\u001b[0m, in \u001b[0;36m<cell line: 1>\u001b[0;34m()\u001b[0m\n\u001b[0;32m----> 1\u001b[0m years \u001b[38;5;241m=\u001b[39m \u001b[43mearth\u001b[49m\u001b[38;5;241;43m.\u001b[39;49m\u001b[43mcolumns\u001b[49m\u001b[38;5;241;43m.\u001b[39;49m\u001b[43mstr\u001b[49m\u001b[38;5;241;43m.\u001b[39;49m\u001b[43mstrip\u001b[49m\u001b[43m(\u001b[49m\u001b[38;5;124;43m'\u001b[39;49m\u001b[38;5;124;43mgdpPercap_\u001b[39;49m\u001b[38;5;124;43m'\u001b[39;49m\u001b[43m)\u001b[49m\u001b[38;5;241;43m.\u001b[39;49m\u001b[43mastype\u001b[49m\u001b[43m(\u001b[49m\u001b[38;5;124;43m'\u001b[39;49m\u001b[38;5;124;43mint\u001b[39;49m\u001b[38;5;124;43m'\u001b[39;49m\u001b[43m)\u001b[49m\n",
      "File \u001b[0;32m~/opt/miniconda3/lib/python3.9/site-packages/pandas/core/indexes/base.py:1061\u001b[0m, in \u001b[0;36mIndex.astype\u001b[0;34m(self, dtype, copy)\u001b[0m\n\u001b[1;32m   1059\u001b[0m         new_values \u001b[38;5;241m=\u001b[39m values\u001b[38;5;241m.\u001b[39mastype(dtype, copy\u001b[38;5;241m=\u001b[39mcopy)\n\u001b[1;32m   1060\u001b[0m     \u001b[38;5;28;01mexcept\u001b[39;00m (\u001b[38;5;167;01mTypeError\u001b[39;00m, \u001b[38;5;167;01mValueError\u001b[39;00m) \u001b[38;5;28;01mas\u001b[39;00m err:\n\u001b[0;32m-> 1061\u001b[0m         \u001b[38;5;28;01mraise\u001b[39;00m \u001b[38;5;167;01mTypeError\u001b[39;00m(\n\u001b[1;32m   1062\u001b[0m             \u001b[38;5;124mf\u001b[39m\u001b[38;5;124m\"\u001b[39m\u001b[38;5;124mCannot cast \u001b[39m\u001b[38;5;132;01m{\u001b[39;00m\u001b[38;5;28mtype\u001b[39m(\u001b[38;5;28mself\u001b[39m)\u001b[38;5;241m.\u001b[39m\u001b[38;5;18m__name__\u001b[39m\u001b[38;5;132;01m}\u001b[39;00m\u001b[38;5;124m to dtype \u001b[39m\u001b[38;5;132;01m{\u001b[39;00mdtype\u001b[38;5;132;01m}\u001b[39;00m\u001b[38;5;124m\"\u001b[39m\n\u001b[1;32m   1063\u001b[0m         ) \u001b[38;5;28;01mfrom\u001b[39;00m \u001b[38;5;21;01merr\u001b[39;00m\n\u001b[1;32m   1065\u001b[0m \u001b[38;5;66;03m# pass copy=False because any copying will be done in the astype above\u001b[39;00m\n\u001b[1;32m   1066\u001b[0m \u001b[38;5;28;01mreturn\u001b[39;00m Index(new_values, name\u001b[38;5;241m=\u001b[39m\u001b[38;5;28mself\u001b[39m\u001b[38;5;241m.\u001b[39mname, dtype\u001b[38;5;241m=\u001b[39mnew_values\u001b[38;5;241m.\u001b[39mdtype, copy\u001b[38;5;241m=\u001b[39m\u001b[38;5;28;01mFalse\u001b[39;00m)\n",
      "\u001b[0;31mTypeError\u001b[0m: Cannot cast Index to dtype int64"
     ]
    }
   ],
   "source": [
    "years = earth.columns.str.strip('gdpPercap_').astype('int')"
   ]
  },
  {
   "cell_type": "code",
   "execution_count": 190,
   "id": "7c83696d-45a1-4af2-b451-54d3f152e52c",
   "metadata": {},
   "outputs": [],
   "source": [
    "gdp_index = earth.columns.str.contains('gdpPercap')"
   ]
  },
  {
   "cell_type": "code",
   "execution_count": 191,
   "id": "5449d568-b35a-4c63-b1ce-2cc9d7f6f6df",
   "metadata": {},
   "outputs": [
    {
     "data": {
      "text/plain": [
       "array([False,  True,  True,  True,  True,  True,  True,  True,  True,\n",
       "        True,  True,  True,  True, False, False, False, False, False,\n",
       "       False, False, False, False, False, False, False, False, False,\n",
       "       False, False, False, False, False, False, False, False, False,\n",
       "       False])"
      ]
     },
     "execution_count": 191,
     "metadata": {},
     "output_type": "execute_result"
    }
   ],
   "source": [
    "gdp_index"
   ]
  },
  {
   "cell_type": "code",
   "execution_count": 193,
   "id": "04779230-60e9-4545-b82c-b3a4685f8308",
   "metadata": {},
   "outputs": [],
   "source": [
    "years = earth.columns[gdp_index].str.strip('gdpPercap_').astype('int')"
   ]
  },
  {
   "cell_type": "code",
   "execution_count": 195,
   "id": "db7a76ba-2e12-474f-8093-dcf5b9c0400f",
   "metadata": {},
   "outputs": [
    {
     "data": {
      "text/plain": [
       "Int64Index([1952, 1957, 1962, 1967, 1972, 1977, 1982, 1987, 1992, 1997, 2002,\n",
       "            2007],\n",
       "           dtype='int64')"
      ]
     },
     "execution_count": 195,
     "metadata": {},
     "output_type": "execute_result"
    }
   ],
   "source": [
    "years"
   ]
  },
  {
   "cell_type": "code",
   "execution_count": 196,
   "id": "9eba9329-c69f-47cd-bb12-f0ac5e6a3614",
   "metadata": {},
   "outputs": [
    {
     "data": {
      "image/png": "[encoded data removed]",
      "text/plain": [
       "<Figure size 432x288 with 1 Axes>"
      ]
     },
     "metadata": {
      "needs_background": "light"
     },
     "output_type": "display_data"
    },
    {
     "name": "stdout",
     "output_type": "stream",
     "text": [
      "done plotting 1952\n"
     ]
    },
    {
     "data": {
      "image/png": "[encoded data removed]",
      "text/plain": [
       "<Figure size 432x288 with 1 Axes>"
      ]
     },
     "metadata": {
      "needs_background": "light"
     },
     "output_type": "display_data"
    },
    {
     "name": "stdout",
     "output_type": "stream",
     "text": [
      "done plotting 1957\n"
     ]
    },
    {
     "data": {
      "image/png": "[encoded data removed]",
      "text/plain": [
       "<Figure size 432x288 with 1 Axes>"
      ]
     },
     "metadata": {
      "needs_background": "light"
     },
     "output_type": "display_data"
    },
    {
     "name": "stdout",
     "output_type": "stream",
     "text": [
      "done plotting 1962\n"
     ]
    },
    {
     "data": {
      "image/png": "[encoded data removed]",
      "text/plain": [
       "<Figure size 432x288 with 1 Axes>"
      ]
     },
     "metadata": {
      "needs_background": "light"
     },
     "output_type": "display_data"
    },
    {
     "name": "stdout",
     "output_type": "stream",
     "text": [
      "done plotting 1967\n"
     ]
    },
    {
     "data": {
      "image/png": "[encoded data removed]",
      "text/plain": [
       "<Figure size 432x288 with 1 Axes>"
      ]
     },
     "metadata": {
      "needs_background": "light"
     },
     "output_type": "display_data"
    },
    {
     "name": "stdout",
     "output_type": "stream",
     "text": [
      "done plotting 1972\n"
     ]
    },
    {
     "data": {
      "image/png": "[encoded data removed]",
      "text/plain": [
       "<Figure size 432x288 with 1 Axes>"
      ]
     },
     "metadata": {
      "needs_background": "light"
     },
     "output_type": "display_data"
    },
    {
     "name": "stdout",
     "output_type": "stream",
     "text": [
      "done plotting 1977\n"
     ]
    },
    {
     "data": {
      "image/png": "[encoded data removed]",
      "text/plain": [
       "<Figure size 432x288 with 1 Axes>"
      ]
     },
     "metadata": {
      "needs_background": "light"
     },
     "output_type": "display_data"
    },
    {
     "name": "stdout",
     "output_type": "stream",
     "text": [
      "done plotting 1982\n"
     ]
    },
    {
     "data": {
      "image/png": "[encoded data removed]",
      "text/plain": [
       "<Figure size 432x288 with 1 Axes>"
      ]
     },
     "metadata": {
      "needs_background": "light"
     },
     "output_type": "display_data"
    },
    {
     "name": "stdout",
     "output_type": "stream",
     "text": [
      "done plotting 1987\n"
     ]
    },
    {
     "data": {
      "image/png": "[encoded data removed]",
      "text/plain": [
       "<Figure size 432x288 with 1 Axes>"
      ]
     },
     "metadata": {
      "needs_background": "light"
     },
     "output_type": "display_data"
    },
    {
     "name": "stdout",
     "output_type": "stream",
     "text": [
      "done plotting 1992\n"
     ]
    },
    {
     "data": {
      "image/png": "[encoded data removed]",
      "text/plain": [
       "<Figure size 432x288 with 1 Axes>"
      ]
     },
     "metadata": {
      "needs_background": "light"
     },
     "output_type": "display_data"
    },
    {
     "name": "stdout",
     "output_type": "stream",
     "text": [
      "done plotting 1997\n"
     ]
    },
    {
     "data": {
      "image/png": "[encoded data removed]",
      "text/plain": [
       "<Figure size 432x288 with 1 Axes>"
      ]
     },
     "metadata": {
      "needs_background": "light"
     },
     "output_type": "display_data"
    },
    {
     "name": "stdout",
     "output_type": "stream",
     "text": [
      "done plotting 2002\n"
     ]
    },
    {
     "data": {
      "image/png": "[encoded data removed]",
      "text/plain": [
       "<Figure size 432x288 with 1 Axes>"
      ]
     },
     "metadata": {
      "needs_background": "light"
     },
     "output_type": "display_data"
    },
    {
     "name": "stdout",
     "output_type": "stream",
     "text": [
      "done plotting 2007\n"
     ]
    }
   ],
   "source": [
    "for year in years:\n",
    "    annual_scatter_plot(year)\n",
    "    print(\"done plotting\", year)"
   ]
  },
  {
   "cell_type": "code",
   "execution_count": 198,
   "id": "ed1231d3-6221-4394-8bf8-d90dc51b479c",
   "metadata": {},
   "outputs": [
    {
     "data": {
      "text/plain": [
       "<function max>"
      ]
     },
     "execution_count": 198,
     "metadata": {},
     "output_type": "execute_result"
    }
   ],
   "source": [
    "max"
   ]
  },
  {
   "cell_type": "code",
   "execution_count": 197,
   "id": "73129fa3-f654-4cc0-86e3-ea204b51e181",
   "metadata": {},
   "outputs": [
    {
     "data": {
      "text/plain": [
       "5"
      ]
     },
     "execution_count": 197,
     "metadata": {},
     "output_type": "execute_result"
    }
   ],
   "source": [
    "min(0.0, 5)"
   ]
  }
 ],
 "metadata": {
  "kernelspec": {
   "display_name": "Python 3 (ipykernel)",
   "language": "python",
   "name": "python3"
  },
  "language_info": {
   "codemirror_mode": {
    "name": "ipython",
    "version": 3
   },
   "file_extension": ".py",
   "mimetype": "text/x-python",
   "name": "python",
   "nbconvert_exporter": "python",
   "pygments_lexer": "ipython3",
   "version": "3.9.7"
  }
 },
 "nbformat": 4,
 "nbformat_minor": 5
}
